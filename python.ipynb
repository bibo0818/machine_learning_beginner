{
  "nbformat": 4,
  "nbformat_minor": 0,
  "metadata": {
    "colab": {
      "name": "python.ipynb",
      "provenance": [],
      "collapsed_sections": [
        "OTvhjWYgFGZQ",
        "MLhs500dg5u_",
        "Uj5AE8Yp6wmn"
      ],
      "authorship_tag": "ABX9TyOffIKfliK/Eci4wSvr8Sds",
      "include_colab_link": true
    },
    "kernelspec": {
      "name": "python3",
      "display_name": "Python 3"
    }
  },
  "cells": [
    {
      "cell_type": "markdown",
      "metadata": {
        "id": "view-in-github",
        "colab_type": "text"
      },
      "source": [
        "<a href=\"https://colab.research.google.com/github/bibo0818/machine_learning_beginner/blob/master/python.ipynb\" target=\"_parent\"><img src=\"https://colab.research.google.com/assets/colab-badge.svg\" alt=\"Open In Colab\"/></a>"
      ]
    },
    {
      "cell_type": "markdown",
      "metadata": {
        "id": "dsRMvlGe6Vv0"
      },
      "source": [
        "##設定"
      ]
    },
    {
      "cell_type": "code",
      "metadata": {
        "id": "ArZ-HWmX0GUk",
        "colab": {
          "base_uri": "https://localhost:8080/"
        },
        "outputId": "259e3df7-48a2-4f0f-d633-43f59a794bc6"
      },
      "source": [
        "from google.colab import drive\n",
        "drive.mount('/content/drive')"
      ],
      "execution_count": null,
      "outputs": [
        {
          "output_type": "stream",
          "text": [
            "Mounted at /content/drive\n"
          ],
          "name": "stdout"
        }
      ]
    },
    {
      "cell_type": "code",
      "metadata": {
        "colab": {
          "base_uri": "https://localhost:8080/"
        },
        "id": "EZ-lAWaQ8TNk",
        "outputId": "034ecfc0-8a7c-4cee-cc65-dfce341e8e94"
      },
      "source": [
        "%cd '/content/drive/My Drive/Colab Notebooks'"
      ],
      "execution_count": null,
      "outputs": [
        {
          "output_type": "stream",
          "text": [
            "/content/drive/My Drive/Colab Notebooks\n"
          ],
          "name": "stdout"
        }
      ]
    },
    {
      "cell_type": "markdown",
      "metadata": {
        "id": "OTvhjWYgFGZQ"
      },
      "source": [
        "#第一次作業"
      ]
    },
    {
      "cell_type": "markdown",
      "metadata": {
        "id": "YO4Mwm1VE0q_"
      },
      "source": [
        "##第一題"
      ]
    },
    {
      "cell_type": "markdown",
      "metadata": {
        "id": "SJYcIeiDCD63"
      },
      "source": [
        "##履歷\n",
        "|姓名|王 俊 雄|\n",
        "|----|------|\n",
        "|學校|國立高雄科技大學|\n",
        "|科系|土木工程系|\n",
        "|經歷|\n",
        "1.翰林書法社 社長\n",
        "2.翰林書法社 總務\n",
        "3.泛亞工程 實習生\n",
        "4.特攻隊營造 實習生\n",
        "5.鴻威工程 實習生\n",
        "\n",
        "\n",
        "\n"
      ]
    },
    {
      "cell_type": "markdown",
      "metadata": {
        "id": "ILQir7kKE6pe"
      },
      "source": [
        "##第二題"
      ]
    },
    {
      "cell_type": "code",
      "metadata": {
        "colab": {
          "base_uri": "https://localhost:8080/",
          "height": 0
        },
        "id": "BXq38LcJFFs3",
        "outputId": "94aa886c-743f-4d1d-f3a4-7e1406d1b09e"
      },
      "source": [
        "H=[26.6, 31.3, 32.9, 35.9, 35.1, 36.9, 37.4, 37.8, 36.1, 34.8, 31.1, 29.5]\n",
        "L=[11.9, 13.7, 12.1, 15.2, 17.9, 22.3, 24.8, 25.1, 19.8, 19.9, 16, 11.6]\n",
        "Xname=['Jan', 'Feb', 'Mar', 'Apr', 'May', 'Jun', 'Jul', 'Aug', 'Sep', 'Oct', 'Nov', 'Dec']\n",
        "xlim([1,12])\n",
        "xticks(range(1,13),Xname)\n",
        "ylim([10,40])\n",
        "yticks(range(10,40,2))\n",
        "title('Monthly Temperature')\n",
        "plot(X,H)\n",
        "plot(X,L)"
      ],
      "execution_count": 8,
      "outputs": [
        {
          "output_type": "execute_result",
          "data": {
            "text/plain": [
              "[<matplotlib.lines.Line2D at 0x7f13e5868fd0>]"
            ]
          },
          "metadata": {
            "tags": []
          },
          "execution_count": 8
        },
        {
          "output_type": "display_data",
          "data": {
            "image/png": "[encoded data removed]",
            "text/plain": [
              "<Figure size 432x288 with 1 Axes>"
            ]
          },
          "metadata": {
            "tags": [],
            "needs_background": "light"
          }
        }
      ]
    },
    {
      "cell_type": "markdown",
      "metadata": {
        "id": "Prhm24zqEkKk"
      },
      "source": [
        "##挑戰題一\n"
      ]
    },
    {
      "cell_type": "code",
      "metadata": {
        "colab": {
          "base_uri": "https://localhost:8080/",
          "height": 315
        },
        "id": "11OYAV8V8xJj",
        "outputId": "0e2cc3e5-2ff9-4ee7-8625-688335d33981"
      },
      "source": [
        "plot([0,-2,0,2,0],[-2,0,2,0,-2],[1,-1,-1,1,1],[-1,-1,1,1,-1],[0,-1,0,1,0],[-1,0,1,0,-1])"
      ],
      "execution_count": null,
      "outputs": [
        {
          "output_type": "execute_result",
          "data": {
            "text/plain": [
              "[<matplotlib.lines.Line2D at 0x7fb7ba142b90>,\n",
              " <matplotlib.lines.Line2D at 0x7fb7ba142d90>,\n",
              " <matplotlib.lines.Line2D at 0x7fb7ba142f50>]"
            ]
          },
          "metadata": {
            "tags": []
          },
          "execution_count": 20
        },
        {
          "output_type": "display_data",
          "data": {
            "image/png": "[encoded data removed]",
            "text/plain": [
              "<Figure size 432x288 with 1 Axes>"
            ]
          },
          "metadata": {
            "tags": [],
            "needs_background": "light"
          }
        }
      ]
    },
    {
      "cell_type": "markdown",
      "metadata": {
        "id": "MLhs500dg5u_"
      },
      "source": [
        "#第二次作業\n"
      ]
    },
    {
      "cell_type": "markdown",
      "metadata": {
        "id": "jhfg_wTjHofi"
      },
      "source": [
        "##第一題【猜數字遊戲】"
      ]
    },
    {
      "cell_type": "code",
      "metadata": {
        "colab": {
          "base_uri": "https://localhost:8080/"
        },
        "id": "YaumnQBshDf1",
        "outputId": "5207c053-4aa7-4e49-bb71-9e5fa0183d2a"
      },
      "source": [
        "X = randint(1,100)\n",
        "N = ''\n",
        "while N != 'bye!':\n",
        "  N = int(input('>>')) \n",
        "  if N == X :\n",
        "    print('答對了')\n",
        "    N = 'bye!'\n",
        "  elif N > X :\n",
        "    print('太大了')\n",
        "  elif N < X :\n",
        "    print('太小了')\n"
      ],
      "execution_count": null,
      "outputs": [
        {
          "output_type": "stream",
          "text": [
            ">>50\n",
            "太小了\n",
            ">>60\n",
            "太大了\n",
            ">>55\n",
            "答對了\n"
          ],
          "name": "stdout"
        }
      ]
    },
    {
      "cell_type": "markdown",
      "metadata": {
        "id": "W6vGbfkmYOEC"
      },
      "source": [
        "##第三題 【寫個函數讓階乘出現】"
      ]
    },
    {
      "cell_type": "code",
      "metadata": {
        "colab": {
          "base_uri": "https://localhost:8080/"
        },
        "id": "txiLQbpYIcwp",
        "outputId": "3a8c9c52-b548-4145-9cac-df8327cd74de"
      },
      "source": [
        "N = int(input('>>'))\n",
        "def factorial(n) :\n",
        "  sum = 1\n",
        "  totla = 0\n",
        "  for i in range(1, n+1):\n",
        "    sum = sum * i\n",
        "  return sum\n",
        "Ans = factorial(N)\n",
        "print('{}！={}'.format(N, Ans))"
      ],
      "execution_count": null,
      "outputs": [
        {
          "output_type": "stream",
          "text": [
            ">>5\n",
            "5！=120\n"
          ],
          "name": "stdout"
        }
      ]
    },
    {
      "cell_type": "markdown",
      "metadata": {
        "id": "wRFQEW9TfSqq"
      },
      "source": [
        "##挑戰題一【寫個函數讓字串倒過來排】"
      ]
    },
    {
      "cell_type": "code",
      "metadata": {
        "colab": {
          "base_uri": "https://localhost:8080/"
        },
        "id": "ixU73kaCbl7w",
        "outputId": "3f3e8355-c15c-4499-c4d6-e5e4506fc40f"
      },
      "source": [
        "T = input('>>')\n",
        "\n",
        "def reverse(n) :\n",
        "  st = n\n",
        "  return st[::-1]\n",
        "TT = reverse(T)\n",
        "print('<{}>, 倒過來就是 <{}>'.format(T,TT))"
      ],
      "execution_count": null,
      "outputs": [
        {
          "output_type": "stream",
          "text": [
            ">>高手雲集，高科大\n",
            "<高手雲集，高科大>, 倒過來就是 <大科高，集雲手高>\n"
          ],
          "name": "stdout"
        }
      ]
    },
    {
      "cell_type": "markdown",
      "metadata": {
        "id": "_dXJwRPFdvhv"
      },
      "source": [
        "##挑戰題二【我有一棵樹】"
      ]
    },
    {
      "cell_type": "code",
      "metadata": {
        "colab": {
          "base_uri": "https://localhost:8080/"
        },
        "id": "D9dFEtYvcDgK",
        "outputId": "bf9e0ece-cf94-4249-d7d5-59430aa2aad9"
      },
      "source": [
        "N =int(input('>>'))\n",
        "def tree(n) :\n",
        "  layer = n\n",
        "  for i in range(0,n+1):\n",
        "    st =()\n",
        "    print(' '*(n-i)+'*'*(2*i-1)) \n",
        "Ans = tree(N)"
      ],
      "execution_count": null,
      "outputs": [
        {
          "output_type": "stream",
          "text": [
            ">>15\n",
            "               \n",
            "              *\n",
            "             ***\n",
            "            *****\n",
            "           *******\n",
            "          *********\n",
            "         ***********\n",
            "        *************\n",
            "       ***************\n",
            "      *****************\n",
            "     *******************\n",
            "    *********************\n",
            "   ***********************\n",
            "  *************************\n",
            " ***************************\n",
            "*****************************\n"
          ],
          "name": "stdout"
        }
      ]
    },
    {
      "cell_type": "markdown",
      "metadata": {
        "id": "xoQE8xdfkcHJ"
      },
      "source": [
        "#第三次作業"
      ]
    },
    {
      "cell_type": "code",
      "metadata": {
        "id": "lqU7wQ-7kfpi"
      },
      "source": [
        "%matplotlib inline\n",
        "import numpy as np\n",
        "import matplotlib.pyplot as plt\n"
      ],
      "execution_count": 2,
      "outputs": []
    },
    {
      "cell_type": "markdown",
      "metadata": {
        "id": "Uj5AE8Yp6wmn"
      },
      "source": [
        "##第一題："
      ]
    },
    {
      "cell_type": "code",
      "metadata": {
        "colab": {
          "base_uri": "https://localhost:8080/"
        },
        "id": "tvExa1WGcEGi",
        "outputId": "44c7fea7-ddef-42ce-f7e1-97f5d7a13d0c"
      },
      "source": [
        "\n",
        "random_grades = np.random.randint(30,100,(30,5))\n",
        "weights = np.array([0.25, 0.25, 0.25, 0.15, 0.10])\n",
        "all_grades = np.dot(random_grades,weights).reshape(3,10)\n",
        "all_grades_mean =np.mean(all_grades, axis=1)\n",
        "\n",
        "A_class, B_class, C_class = np.split(random_grades,[10,20])\n",
        "A_grades, B_grades, C_grades = np.split(all_grades,[1,2])\n",
        "A_mean, B_mean, C_mean = np.split(all_grades_mean,[1,2])\n",
        "\n",
        "class_name = [\"A班\", \"B班\", \"C班\",]\n",
        "class_one_grades = [A_class, B_class, C_class]\n",
        "class_grades = [A_grades, B_grades, C_grades]\n",
        "class_mean = [A_mean, B_mean, C_mean]\n",
        "\n",
        "for i, j, k, q in zip(class_name, class_one_grades, class_grades, class_mean) :\n",
        " print(\"{}的個人成績\\n{}\\n個人總成績\\n{}\\n班平均\\n{}\\n\".format(i,j,k,q))\n"
      ],
      "execution_count": null,
      "outputs": [
        {
          "output_type": "stream",
          "text": [
            "A班的個人成績\n",
            "[[63 69 81 35 36]\n",
            " [67 99 71 32 30]\n",
            " [56 70 39 51 70]\n",
            " [31 48 98 39 71]\n",
            " [98 97 49 86 63]\n",
            " [98 80 60 46 88]\n",
            " [55 62 75 30 32]\n",
            " [48 46 95 98 90]\n",
            " [60 68 55 44 82]\n",
            " [52 95 40 98 39]]\n",
            "個人總成績\n",
            "[[62.1  67.05 55.9  57.2  80.2  75.2  55.7  70.95 60.55 65.35]]\n",
            "班平均\n",
            "[65.02]\n",
            "\n",
            "B班的個人成績\n",
            "[[67 56 78 37 78]\n",
            " [51 98 88 53 88]\n",
            " [38 72 35 62 97]\n",
            " [38 85 42 62 79]\n",
            " [61 87 79 39 74]\n",
            " [48 30 75 44 63]\n",
            " [93 61 97 80 47]\n",
            " [79 75 40 84 70]\n",
            " [49 67 78 42 64]\n",
            " [54 60 82 83 72]]\n",
            "個人總成績\n",
            "[[63.6  76.   55.25 58.45 70.   51.15 79.45 68.1  61.2  68.65]]\n",
            "班平均\n",
            "[65.185]\n",
            "\n",
            "C班的個人成績\n",
            "[[50 41 61 68 90]\n",
            " [76 35 92 95 87]\n",
            " [53 87 72 55 51]\n",
            " [84 78 57 47 77]\n",
            " [39 93 98 97 33]\n",
            " [83 50 92 35 34]\n",
            " [55 52 53 87 32]\n",
            " [91 44 81 60 75]\n",
            " [71 88 64 78 70]\n",
            " [37 37 63 37 36]]\n",
            "個人總成績\n",
            "[[57.2  73.7  66.35 69.5  75.35 64.9  56.25 70.5  74.45 43.4 ]]\n",
            "班平均\n",
            "[65.16]\n",
            "\n"
          ],
          "name": "stdout"
        }
      ]
    },
    {
      "cell_type": "markdown",
      "metadata": {
        "id": "GflTmXXE61DV"
      },
      "source": [
        "##第二題："
      ]
    },
    {
      "cell_type": "code",
      "metadata": {
        "colab": {
          "base_uri": "https://localhost:8080/",
          "height": 348
        },
        "id": "TG0xP5nP6zpU",
        "outputId": "44d97c87-1f84-43d0-9d9e-a945a65a1cff"
      },
      "source": [
        "class2_grades = np.random.randint(0,100,size=40)\n",
        "class2_grades = np.sort(class2_grades)\n",
        "class2_grades_over_60 = class2_grades[class2_grades>=60]\n",
        "class2_grades_over_60_no = np.argsort(class2_grades_over_60)\n",
        "class2_mean = np.mean(class2_grades)\n",
        "class2_std = np.std(class2_grades)\n",
        "print(\"成績\\n{},\\n最高分{},最低分{},及格人數{},平均{},標準差{}\".format(\n",
        "    class2_grades,\n",
        "    class2_grades[0],\n",
        "    class2_grades[-1],\n",
        "    class2_grades_over_60_no[-1]+1,\n",
        "    class2_mean,\n",
        "    class2_std\n",
        "    ))\n",
        "plt.xticks(range(0,110,10))\n",
        "plt.hist(class2_grades,bins=[0,10,20,30,40,50,60,70,80,90,100]) \n",
        "plt.title(\"Class Grades\") \n",
        "plt.show()"
      ],
      "execution_count": 95,
      "outputs": [
        {
          "output_type": "stream",
          "text": [
            "成績\n",
            "[ 2  3  5  6  6 13 15 16 18 19 20 24 24 25 28 35 36 39 39 41 44 45 46 46\n",
            " 46 53 55 55 65 66 70 71 73 75 79 82 85 86 89 91],\n",
            "最高分2,最低分91,及格人數12,平均43.4,標準差26.804663773306316\n"
          ],
          "name": "stdout"
        },
        {
          "output_type": "display_data",
          "data": {
            "image/png": "[encoded data removed]",
            "text/plain": [
              "<Figure size 432x288 with 1 Axes>"
            ]
          },
          "metadata": {
            "tags": [],
            "needs_background": "light"
          }
        }
      ]
    },
    {
      "cell_type": "markdown",
      "metadata": {
        "id": "nWoR-K760LYi"
      },
      "source": [
        "##挑戰題一："
      ]
    },
    {
      "cell_type": "code",
      "metadata": {
        "colab": {
          "base_uri": "https://localhost:8080/",
          "height": 0
        },
        "id": "-dKMdH9u0NR0",
        "outputId": "5bc24584-3f1d-49e8-e103-81c51c61b72a"
      },
      "source": [
        "class3_grades_all = np.random.randint(0,100,[50,3])\n",
        "class3_weights_1 = np.array([0.20,0.35,0.45])\n",
        "class3_weights_2 = np.array([0,0.40,0.60])\n",
        "class3_grades_1 = np.dot(class3_grades_all,class3_weights_1)\n",
        "class3_grades_2 = np.dot(class3_grades_all,class3_weights_2)\n",
        "class3_grades_max = np.maximum(class3_grades_1,class3_grades_2).reshape(50,1)\n",
        "print(\"成績1\\n{},\\n成績2\\n{},\\n最高分\\n{}\".format(class3_grades_1,class3_grades_2,class3_grades_max))"
      ],
      "execution_count": 93,
      "outputs": [
        {
          "output_type": "stream",
          "text": [
            "成績1\n",
            "[46.75 38.3  74.5  62.6  49.25 80.   68.15 50.45 36.1  29.6  79.   50.5\n",
            " 54.95 22.25 72.35 61.65 44.3  55.15 55.5  48.2  14.85 52.85 44.15 80.25\n",
            " 12.55 43.6  42.8  52.15 44.9  60.2  69.4  55.1  73.   56.35 45.1  22.65\n",
            " 59.05 13.9  65.   39.1  48.7  32.2  75.75 41.4  28.15 67.7  23.3  46.65\n",
            " 33.4  18.8 ],\n",
            "成績2\n",
            "[37.8 42.8 80.6 57.2 43.8 88.2 60.2 59.6 21.  26.  81.  40.8 56.4 18.6\n",
            " 78.6 55.8 52.2 55.8 67.8 50.6 11.8 43.6 30.  85.2 11.  35.2 41.4 37.8\n",
            " 48.8 70.2 73.6 59.8 71.2 64.8 37.2 10.4 49.  12.4 63.4 27.4 46.6 30.6\n",
            " 88.6 39.  20.6 63.2 24.2 49.  40.4 23.2],\n",
            "最高分\n",
            "[[46.75]\n",
            " [42.8 ]\n",
            " [80.6 ]\n",
            " [62.6 ]\n",
            " [49.25]\n",
            " [88.2 ]\n",
            " [68.15]\n",
            " [59.6 ]\n",
            " [36.1 ]\n",
            " [29.6 ]\n",
            " [81.  ]\n",
            " [50.5 ]\n",
            " [56.4 ]\n",
            " [22.25]\n",
            " [78.6 ]\n",
            " [61.65]\n",
            " [52.2 ]\n",
            " [55.8 ]\n",
            " [67.8 ]\n",
            " [50.6 ]\n",
            " [14.85]\n",
            " [52.85]\n",
            " [44.15]\n",
            " [85.2 ]\n",
            " [12.55]\n",
            " [43.6 ]\n",
            " [42.8 ]\n",
            " [52.15]\n",
            " [48.8 ]\n",
            " [70.2 ]\n",
            " [73.6 ]\n",
            " [59.8 ]\n",
            " [73.  ]\n",
            " [64.8 ]\n",
            " [45.1 ]\n",
            " [22.65]\n",
            " [59.05]\n",
            " [13.9 ]\n",
            " [65.  ]\n",
            " [39.1 ]\n",
            " [48.7 ]\n",
            " [32.2 ]\n",
            " [88.6 ]\n",
            " [41.4 ]\n",
            " [28.15]\n",
            " [67.7 ]\n",
            " [24.2 ]\n",
            " [49.  ]\n",
            " [40.4 ]\n",
            " [23.2 ]]\n"
          ],
          "name": "stdout"
        }
      ]
    }
  ]
}